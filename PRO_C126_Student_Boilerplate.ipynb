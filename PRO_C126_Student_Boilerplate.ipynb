{
  "nbformat": 4,
  "nbformat_minor": 0,
  "metadata": {
    "colab": {
      "provenance": [],
      "include_colab_link": true
    },
    "kernelspec": {
      "name": "python3",
      "display_name": "Python 3"
    },
    "language_info": {
      "name": "python"
    }
  },
  "cells": [
    {
      "cell_type": "markdown",
      "metadata": {
        "id": "view-in-github",
        "colab_type": "text"
      },
      "source": [
        "<a href=\"https://colab.research.google.com/github/Raveen16/ABG-/blob/main/PRO_C126_Student_Boilerplate.ipynb\" target=\"_parent\"><img src=\"https://colab.research.google.com/assets/colab-badge.svg\" alt=\"Open In Colab\"/></a>"
      ]
    },
    {
      "cell_type": "code",
      "execution_count": null,
      "metadata": {
        "id": "WKZ1AbHZowja"
      },
      "outputs": [],
      "source": [
        "import numpy as np\n",
        "import random"
      ]
    },
    {
      "cell_type": "code",
      "source": [
        "def set_initial_state():\n",
        "    return np.random.randint(0, 6)"
      ],
      "metadata": {
        "id": "S-Qe6w--o641"
      },
      "execution_count": null,
      "outputs": []
    },
    {
      "cell_type": "code",
      "source": [
        "rewards = np.array([\n",
        "    [-1, -1, -1, -1,  0,  -1],\n",
        "    [-1, -1, -1,  0, -1, 100],\n",
        "    [-1, -1, -1 , 0 ,-1 , -1],\n",
        "    [-1,  0,  0 ,-1  ,-1 , -1],\n",
        "    [0, -1, -1 , -1 ,-1 ,100],\n",
        "    [-1, -1, -1, -1,  0, 100] \n",
        "])"
      ],
      "metadata": {
        "id": "6RjBxy7yo4fg"
      },
      "execution_count": null,
      "outputs": []
    },
    {
      "cell_type": "code",
      "source": [
        "def get_action(current_state, reward_matrix):\n",
        "    available_action = []\n",
        "    print(\"reward_matrix\",\"\\n\",reward_matrix)    \n",
        "    for action in enumerate(reward_matrix[current_state]):     \n",
        "        if action[1]!= -1:            \n",
        "            available_action.append(action[0]) \n",
        "    choose_action = random.choice(available_action)\n",
        "    print(\"Current State\",current_state)\n",
        "    print(\"Random choice of Action from\",available_action,\"is\", choose_action)           \n",
        "    return choose_action"
      ],
      "metadata": {
        "id": "3D9SYz0CpBkk"
      },
      "execution_count": null,
      "outputs": []
    },
    {
      "cell_type": "code",
      "source": [
        "q_matrix = np.zeros([6,6])\n",
        "print(q_matrix)"
      ],
      "metadata": {
        "colab": {
          "base_uri": "https://localhost:8080/"
        },
        "id": "0vpQ90tdnCEG",
        "outputId": "91c4cbad-4cee-45a8-8b81-7d7443e582c1"
      },
      "execution_count": null,
      "outputs": [
        {
          "output_type": "stream",
          "name": "stdout",
          "text": [
            "[[0. 0. 0. 0. 0. 0.]\n",
            " [0. 0. 0. 0. 0. 0.]\n",
            " [0. 0. 0. 0. 0. 0.]\n",
            " [0. 0. 0. 0. 0. 0.]\n",
            " [0. 0. 0. 0. 0. 0.]\n",
            " [0. 0. 0. 0. 0. 0.]]\n"
          ]
        }
      ]
    },
    {
      "cell_type": "code",
      "source": [
        "def take_action(current_state, reward_matrix, gamma):\n",
        "    \n",
        "    action = get_action(current_state, reward_matrix)\n",
        "    \n",
        "    #Current State, Action Reward\n",
        "    current_sa_reward = reward_matrix[current_state, action]\n",
        "\n",
        "    # New State, Action Reward\n",
        "    q_sa_value = max(q_matrix[action,])\n",
        "  \n",
        "    # Current Q state\n",
        "    q_current_state = current_sa_reward + (gamma * q_sa_value)\n",
        "\n",
        "    # Update Q matrix\n",
        "    q_matrix[current_state,action] = q_current_state\n",
        "    \n",
        "    print(\"q_matrix \",\"\\n\", q_matrix)\n",
        "\n",
        "    new_state = action\n",
        "    \n",
        "    print(\"********************************************************************\")\n",
        "    \n",
        "    if new_state == 5:\n",
        "        print(\"Reached Goal!\")\n",
        "    else: \n",
        "        print(f\"Old State:{current_state} New State: {new_state}\")\n",
        "        \n",
        "    return new_state"
      ],
      "metadata": {
        "id": "Hi4c2o6fdhlk"
      },
      "execution_count": null,
      "outputs": []
    },
    {
      "cell_type": "markdown",
      "source": [
        "## Train RL Model\n",
        "\n",
        "Aim is to make the agent explore different states and reach the goal, the rewards are updated after each trial.\n",
        "\n",
        "Agent completes an **episode** when it starts from initial state and reaches the goal.\n",
        "\n",
        "For each action, Q-matrix is updated. This will act as the trained environment for the agent. Using the updated Q-matrix the agent can look for maximum reward and finds optimal path for any state.\n",
        "\n",
        "Refer the link below to check how the episodes are run and Q-matrix is updated.\n",
        "[Run Multiple Episodes](https://whitehatjrcontent.s3.ap-south-1.amazonaws.com/Teacher-Resources/COCOS_Applets/POC/Coding/SimpleQ-RL/final/index.html)"
      ],
      "metadata": {
        "id": "Nf3eCOOjurEt"
      }
    },
    {
      "cell_type": "code",
      "source": [
        "def run_episode(initial_state,reward_matrix, gamma): \n",
        "\n",
        "    new_state =  take_action(initial_state, reward_matrix, gamma)\n",
        "\n",
        "     # ADD CODE HERE ##"
      ],
      "metadata": {
        "id": "8wbGdp6Stwp0"
      },
      "execution_count": null,
      "outputs": []
    },
    {
      "cell_type": "code",
      "source": [
        "def train(episodes, reward_matrix, gamma):\n",
        "    print(\"Training...\")\n",
        "    \n",
        "    # ADD CODE HERE ##\n",
        "  \n"
      ],
      "metadata": {
        "id": "gcC9WlO6tyym"
      },
      "execution_count": null,
      "outputs": []
    },
    {
      "cell_type": "code",
      "source": [
        "gamma = 0.8\n",
        "\n",
        "# Get Q table\n",
        "q_table = train(2, rewards, gamma)\n",
        "\n",
        "print(\"Final Q Table: \", q_table)"
      ],
      "metadata": {
        "id": "HeET8Qhnt1WR"
      },
      "execution_count": null,
      "outputs": []
    },
    {
      "cell_type": "markdown",
      "source": [
        "## Best Path to Goal\n",
        "\n",
        "By looking at the q_table we find that the rewards are calculated for different states and actions. For a particular state the maximum rewards are given to the action which should be taken to find the optimal path to reach the goal."
      ],
      "metadata": {
        "id": "SSugwbyfuBQi"
      }
    },
    {
      "cell_type": "code",
      "source": [
        "def optimal_path(q_table):\n",
        "    path=[]\n",
        "     # ADD CODE HERE ##"
      ],
      "metadata": {
        "id": "jao8gbZ1t7TR"
      },
      "execution_count": null,
      "outputs": []
    },
    {
      "cell_type": "code",
      "source": [
        "Q_optimal_path, max_reward  = optimal_path(q_table)\n",
        "print(Q_optimal_path, max_reward)"
      ],
      "metadata": {
        "id": "oEeQSNpLt9Qb"
      },
      "execution_count": null,
      "outputs": []
    }
  ]
}